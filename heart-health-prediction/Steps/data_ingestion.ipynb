{
 "cells": [
  {
   "cell_type": "code",
   "execution_count": 2,
   "metadata": {},
   "outputs": [],
   "source": [
    "import pandas as pd\n",
    "from zenml.steps import step\n"
   ]
  },
  {
   "cell_type": "code",
   "execution_count": 3,
   "metadata": {},
   "outputs": [
    {
     "name": "stdout",
     "output_type": "stream",
     "text": [
      "\u001b[33mThe \u001b[0m\u001b[1;36m@step\u001b[33m decorator that you used to define your ingest_data step is deprecated. Check out the 0.40.0 migration guide for more information on how to migrate your steps to the new syntax: \u001b[0m\u001b[34mhttps://docs.zenml.io/reference/migration-guide/migration-zero-forty\u001b[33m\u001b[0m\n"
     ]
    }
   ],
   "source": [
    "class IngestData:\n",
    "\n",
    "    def __init__(self) -> None:\n",
    "        pass\n",
    "\n",
    "    def get_data(self) -> pd.DataFrame:\n",
    "        df = pd.read_csv(\"../Dataset/Final Dataset/dataset.csv\")\n",
    "        return df\n",
    "\n",
    "@step\n",
    "def ingest_data() -> pd.DataFrame:\n",
    "\n",
    "    ingest_data = IngestData()\n",
    "    df = ingest_data.get_data()\n",
    "    return df"
   ]
  }
 ],
 "metadata": {
  "kernelspec": {
   "display_name": "Python 3",
   "language": "python",
   "name": "python3"
  },
  "language_info": {
   "codemirror_mode": {
    "name": "ipython",
    "version": 3
   },
   "file_extension": ".py",
   "mimetype": "text/x-python",
   "name": "python",
   "nbconvert_exporter": "python",
   "pygments_lexer": "ipython3",
   "version": "3.11.9"
  }
 },
 "nbformat": 4,
 "nbformat_minor": 2
}
